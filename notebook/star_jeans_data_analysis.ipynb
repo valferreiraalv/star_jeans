{
 "cells": [
  {
   "cell_type": "markdown",
   "id": "0c14b624",
   "metadata": {},
   "source": [
    "# 0.0 Imports"
   ]
  },
  {
   "cell_type": "code",
   "execution_count": 26,
   "id": "52364892",
   "metadata": {
    "ExecuteTime": {
     "end_time": "2022-10-15T19:40:01.737403Z",
     "start_time": "2022-10-15T19:39:59.307959Z"
    }
   },
   "outputs": [],
   "source": [
    "import numpy as np\n",
    "import pandas as pd \n",
    "import seaborn as sns\n",
    "import matplotlib \n",
    "import matplotlib.pyplot as plt\n",
    "\n",
    "from IPython.display import Image\n",
    "from sqlalchemy      import create_engine"
   ]
  },
  {
   "cell_type": "code",
   "execution_count": 35,
   "id": "5d439d42",
   "metadata": {
    "ExecuteTime": {
     "end_time": "2022-10-15T19:45:21.274146Z",
     "start_time": "2022-10-15T19:45:21.254148Z"
    }
   },
   "outputs": [],
   "source": [
    "# Notação Científica\n",
    "#np.set_printoptions(suppress=True)\n",
    "#pd.set_option('display.float_format', '{:.2f}'.format)"
   ]
  },
  {
   "cell_type": "markdown",
   "id": "1ac8b3c9",
   "metadata": {},
   "source": [
    "## 0.1 Data collection"
   ]
  },
  {
   "cell_type": "code",
   "execution_count": 2,
   "id": "0f6b701a",
   "metadata": {
    "ExecuteTime": {
     "end_time": "2022-10-15T17:36:37.360729Z",
     "start_time": "2022-10-15T17:36:37.278732Z"
    }
   },
   "outputs": [],
   "source": [
    "path = 'C:\\\\Users\\\\ferki\\\\repos\\\\python_ds_ao_dev\\\\'\n",
    "database_name = 'database_hm.sqlite'\n",
    "conn = create_engine( 'sqlite:///' + path + database_name, echo=False )"
   ]
  },
  {
   "cell_type": "code",
   "execution_count": 3,
   "id": "24012faa",
   "metadata": {
    "ExecuteTime": {
     "end_time": "2022-10-15T17:36:37.486726Z",
     "start_time": "2022-10-15T17:36:37.366730Z"
    }
   },
   "outputs": [
    {
     "data": {
      "text/html": [
       "<div>\n",
       "<style scoped>\n",
       "    .dataframe tbody tr th:only-of-type {\n",
       "        vertical-align: middle;\n",
       "    }\n",
       "\n",
       "    .dataframe tbody tr th {\n",
       "        vertical-align: top;\n",
       "    }\n",
       "\n",
       "    .dataframe thead th {\n",
       "        text-align: right;\n",
       "    }\n",
       "</style>\n",
       "<table border=\"1\" class=\"dataframe\">\n",
       "  <thead>\n",
       "    <tr style=\"text-align: right;\">\n",
       "      <th></th>\n",
       "      <th>product_id</th>\n",
       "      <th>style_id</th>\n",
       "      <th>color_id</th>\n",
       "      <th>product_name</th>\n",
       "      <th>color_name</th>\n",
       "      <th>fit</th>\n",
       "      <th>product_price</th>\n",
       "      <th>size_number</th>\n",
       "      <th>size_model</th>\n",
       "      <th>cotton</th>\n",
       "      <th>polyester</th>\n",
       "      <th>spandex</th>\n",
       "      <th>scrapy_datetime</th>\n",
       "    </tr>\n",
       "  </thead>\n",
       "  <tbody>\n",
       "    <tr>\n",
       "      <th>0</th>\n",
       "      <td>0985159001</td>\n",
       "      <td>0985159</td>\n",
       "      <td>001</td>\n",
       "      <td>relaxed_jeans</td>\n",
       "      <td>black</td>\n",
       "      <td>skinny_fit</td>\n",
       "      <td>39.99</td>\n",
       "      <td>185</td>\n",
       "      <td>31/32</td>\n",
       "      <td>1.00</td>\n",
       "      <td>0.00</td>\n",
       "      <td>0.01</td>\n",
       "      <td>2022-10-09 07:57:19</td>\n",
       "    </tr>\n",
       "    <tr>\n",
       "      <th>1</th>\n",
       "      <td>0985159002</td>\n",
       "      <td>0985159</td>\n",
       "      <td>002</td>\n",
       "      <td>relaxed_jeans</td>\n",
       "      <td>denim_blue</td>\n",
       "      <td>skinny_fit</td>\n",
       "      <td>39.99</td>\n",
       "      <td>None</td>\n",
       "      <td>None</td>\n",
       "      <td>1.00</td>\n",
       "      <td>0.00</td>\n",
       "      <td>0.01</td>\n",
       "      <td>2022-10-09 07:57:19</td>\n",
       "    </tr>\n",
       "    <tr>\n",
       "      <th>2</th>\n",
       "      <td>0985159003</td>\n",
       "      <td>0985159</td>\n",
       "      <td>003</td>\n",
       "      <td>relaxed_jeans</td>\n",
       "      <td>dark_gray</td>\n",
       "      <td>skinny_fit</td>\n",
       "      <td>39.99</td>\n",
       "      <td>None</td>\n",
       "      <td>None</td>\n",
       "      <td>0.99</td>\n",
       "      <td>0.63</td>\n",
       "      <td>0.01</td>\n",
       "      <td>2022-10-09 07:57:19</td>\n",
       "    </tr>\n",
       "    <tr>\n",
       "      <th>3</th>\n",
       "      <td>0985159004</td>\n",
       "      <td>0985159</td>\n",
       "      <td>004</td>\n",
       "      <td>relaxed_jeans</td>\n",
       "      <td>light_denim_blue</td>\n",
       "      <td>skinny_fit</td>\n",
       "      <td>39.99</td>\n",
       "      <td>183</td>\n",
       "      <td>31/32</td>\n",
       "      <td>1.00</td>\n",
       "      <td>0.00</td>\n",
       "      <td>0.01</td>\n",
       "      <td>2022-10-09 07:57:19</td>\n",
       "    </tr>\n",
       "    <tr>\n",
       "      <th>4</th>\n",
       "      <td>0985159005</td>\n",
       "      <td>0985159</td>\n",
       "      <td>005</td>\n",
       "      <td>relaxed_jeans</td>\n",
       "      <td>dark_blue</td>\n",
       "      <td>skinny_fit</td>\n",
       "      <td>39.99</td>\n",
       "      <td>None</td>\n",
       "      <td>None</td>\n",
       "      <td>1.00</td>\n",
       "      <td>0.00</td>\n",
       "      <td>0.01</td>\n",
       "      <td>2022-10-09 07:57:19</td>\n",
       "    </tr>\n",
       "  </tbody>\n",
       "</table>\n",
       "</div>"
      ],
      "text/plain": [
       "   product_id style_id color_id   product_name        color_name         fit  \\\n",
       "0  0985159001  0985159      001  relaxed_jeans             black  skinny_fit   \n",
       "1  0985159002  0985159      002  relaxed_jeans        denim_blue  skinny_fit   \n",
       "2  0985159003  0985159      003  relaxed_jeans         dark_gray  skinny_fit   \n",
       "3  0985159004  0985159      004  relaxed_jeans  light_denim_blue  skinny_fit   \n",
       "4  0985159005  0985159      005  relaxed_jeans         dark_blue  skinny_fit   \n",
       "\n",
       "   product_price size_number size_model  cotton  polyester  spandex  \\\n",
       "0          39.99         185      31/32    1.00       0.00     0.01   \n",
       "1          39.99        None       None    1.00       0.00     0.01   \n",
       "2          39.99        None       None    0.99       0.63     0.01   \n",
       "3          39.99         183      31/32    1.00       0.00     0.01   \n",
       "4          39.99        None       None    1.00       0.00     0.01   \n",
       "\n",
       "       scrapy_datetime  \n",
       "0  2022-10-09 07:57:19  \n",
       "1  2022-10-09 07:57:19  \n",
       "2  2022-10-09 07:57:19  \n",
       "3  2022-10-09 07:57:19  \n",
       "4  2022-10-09 07:57:19  "
      ]
     },
     "execution_count": 3,
     "metadata": {},
     "output_type": "execute_result"
    }
   ],
   "source": [
    "query = \"\"\"\n",
    "    SELECT * FROM vitrine\n",
    "\"\"\"\n",
    "\n",
    "df_raw = pd.read_sql_query( query, conn)\n",
    "df_raw.head()"
   ]
  },
  {
   "cell_type": "code",
   "execution_count": 4,
   "id": "3431a575",
   "metadata": {
    "ExecuteTime": {
     "end_time": "2022-10-15T17:36:37.517726Z",
     "start_time": "2022-10-15T17:36:37.493727Z"
    },
    "scrolled": true
   },
   "outputs": [],
   "source": [
    "df_raw = pd.read_sql(query, con=conn )"
   ]
  },
  {
   "cell_type": "code",
   "execution_count": 5,
   "id": "f04711f2",
   "metadata": {
    "ExecuteTime": {
     "end_time": "2022-10-15T17:36:37.564725Z",
     "start_time": "2022-10-15T17:36:37.523728Z"
    }
   },
   "outputs": [
    {
     "data": {
      "text/html": [
       "<div>\n",
       "<style scoped>\n",
       "    .dataframe tbody tr th:only-of-type {\n",
       "        vertical-align: middle;\n",
       "    }\n",
       "\n",
       "    .dataframe tbody tr th {\n",
       "        vertical-align: top;\n",
       "    }\n",
       "\n",
       "    .dataframe thead th {\n",
       "        text-align: right;\n",
       "    }\n",
       "</style>\n",
       "<table border=\"1\" class=\"dataframe\">\n",
       "  <thead>\n",
       "    <tr style=\"text-align: right;\">\n",
       "      <th></th>\n",
       "      <th>product_id</th>\n",
       "      <th>style_id</th>\n",
       "      <th>color_id</th>\n",
       "      <th>product_name</th>\n",
       "      <th>color_name</th>\n",
       "      <th>fit</th>\n",
       "      <th>product_price</th>\n",
       "      <th>size_number</th>\n",
       "      <th>size_model</th>\n",
       "      <th>cotton</th>\n",
       "      <th>polyester</th>\n",
       "      <th>spandex</th>\n",
       "      <th>scrapy_datetime</th>\n",
       "    </tr>\n",
       "  </thead>\n",
       "  <tbody>\n",
       "    <tr>\n",
       "      <th>0</th>\n",
       "      <td>0985159001</td>\n",
       "      <td>0985159</td>\n",
       "      <td>001</td>\n",
       "      <td>relaxed_jeans</td>\n",
       "      <td>black</td>\n",
       "      <td>skinny_fit</td>\n",
       "      <td>39.99</td>\n",
       "      <td>185</td>\n",
       "      <td>31/32</td>\n",
       "      <td>1.00</td>\n",
       "      <td>0.00</td>\n",
       "      <td>0.01</td>\n",
       "      <td>2022-10-09 07:57:19</td>\n",
       "    </tr>\n",
       "    <tr>\n",
       "      <th>1</th>\n",
       "      <td>0985159002</td>\n",
       "      <td>0985159</td>\n",
       "      <td>002</td>\n",
       "      <td>relaxed_jeans</td>\n",
       "      <td>denim_blue</td>\n",
       "      <td>skinny_fit</td>\n",
       "      <td>39.99</td>\n",
       "      <td>None</td>\n",
       "      <td>None</td>\n",
       "      <td>1.00</td>\n",
       "      <td>0.00</td>\n",
       "      <td>0.01</td>\n",
       "      <td>2022-10-09 07:57:19</td>\n",
       "    </tr>\n",
       "    <tr>\n",
       "      <th>2</th>\n",
       "      <td>0985159003</td>\n",
       "      <td>0985159</td>\n",
       "      <td>003</td>\n",
       "      <td>relaxed_jeans</td>\n",
       "      <td>dark_gray</td>\n",
       "      <td>skinny_fit</td>\n",
       "      <td>39.99</td>\n",
       "      <td>None</td>\n",
       "      <td>None</td>\n",
       "      <td>0.99</td>\n",
       "      <td>0.63</td>\n",
       "      <td>0.01</td>\n",
       "      <td>2022-10-09 07:57:19</td>\n",
       "    </tr>\n",
       "    <tr>\n",
       "      <th>3</th>\n",
       "      <td>0985159004</td>\n",
       "      <td>0985159</td>\n",
       "      <td>004</td>\n",
       "      <td>relaxed_jeans</td>\n",
       "      <td>light_denim_blue</td>\n",
       "      <td>skinny_fit</td>\n",
       "      <td>39.99</td>\n",
       "      <td>183</td>\n",
       "      <td>31/32</td>\n",
       "      <td>1.00</td>\n",
       "      <td>0.00</td>\n",
       "      <td>0.01</td>\n",
       "      <td>2022-10-09 07:57:19</td>\n",
       "    </tr>\n",
       "    <tr>\n",
       "      <th>4</th>\n",
       "      <td>0985159005</td>\n",
       "      <td>0985159</td>\n",
       "      <td>005</td>\n",
       "      <td>relaxed_jeans</td>\n",
       "      <td>dark_blue</td>\n",
       "      <td>skinny_fit</td>\n",
       "      <td>39.99</td>\n",
       "      <td>None</td>\n",
       "      <td>None</td>\n",
       "      <td>1.00</td>\n",
       "      <td>0.00</td>\n",
       "      <td>0.01</td>\n",
       "      <td>2022-10-09 07:57:19</td>\n",
       "    </tr>\n",
       "  </tbody>\n",
       "</table>\n",
       "</div>"
      ],
      "text/plain": [
       "   product_id style_id color_id   product_name        color_name         fit  \\\n",
       "0  0985159001  0985159      001  relaxed_jeans             black  skinny_fit   \n",
       "1  0985159002  0985159      002  relaxed_jeans        denim_blue  skinny_fit   \n",
       "2  0985159003  0985159      003  relaxed_jeans         dark_gray  skinny_fit   \n",
       "3  0985159004  0985159      004  relaxed_jeans  light_denim_blue  skinny_fit   \n",
       "4  0985159005  0985159      005  relaxed_jeans         dark_blue  skinny_fit   \n",
       "\n",
       "   product_price size_number size_model  cotton  polyester  spandex  \\\n",
       "0          39.99         185      31/32    1.00       0.00     0.01   \n",
       "1          39.99        None       None    1.00       0.00     0.01   \n",
       "2          39.99        None       None    0.99       0.63     0.01   \n",
       "3          39.99         183      31/32    1.00       0.00     0.01   \n",
       "4          39.99        None       None    1.00       0.00     0.01   \n",
       "\n",
       "       scrapy_datetime  \n",
       "0  2022-10-09 07:57:19  \n",
       "1  2022-10-09 07:57:19  \n",
       "2  2022-10-09 07:57:19  \n",
       "3  2022-10-09 07:57:19  \n",
       "4  2022-10-09 07:57:19  "
      ]
     },
     "execution_count": 5,
     "metadata": {},
     "output_type": "execute_result"
    }
   ],
   "source": [
    "df_raw.head()"
   ]
  },
  {
   "cell_type": "markdown",
   "id": "c6766bb5",
   "metadata": {},
   "source": [
    "# 1.0 Descrição dos dados "
   ]
  },
  {
   "cell_type": "code",
   "execution_count": 6,
   "id": "23c6959f",
   "metadata": {
    "ExecuteTime": {
     "end_time": "2022-10-15T17:36:37.600726Z",
     "start_time": "2022-10-15T17:36:37.568727Z"
    }
   },
   "outputs": [],
   "source": [
    "df01 = df_raw.copy()"
   ]
  },
  {
   "cell_type": "markdown",
   "id": "2913cbe8",
   "metadata": {},
   "source": [
    "## 1.1 Dimensão dos dados"
   ]
  },
  {
   "cell_type": "code",
   "execution_count": 7,
   "id": "f9fc999d",
   "metadata": {
    "ExecuteTime": {
     "end_time": "2022-10-15T17:36:37.644725Z",
     "start_time": "2022-10-15T17:36:37.605728Z"
    }
   },
   "outputs": [
    {
     "name": "stdout",
     "output_type": "stream",
     "text": [
      "Number of Rows: 125\n",
      "Number of Cols: 13\n"
     ]
    }
   ],
   "source": [
    "print( 'Number of Rows: {}'.format( df01.shape[0] ) )\n",
    "print( 'Number of Cols: {}'.format( df01.shape[1] ) )"
   ]
  },
  {
   "cell_type": "markdown",
   "id": "415170c0",
   "metadata": {},
   "source": [
    "## 1.2 Tipos de dados"
   ]
  },
  {
   "cell_type": "code",
   "execution_count": 8,
   "id": "957d1744",
   "metadata": {
    "ExecuteTime": {
     "end_time": "2022-10-15T17:36:37.676727Z",
     "start_time": "2022-10-15T17:36:37.648731Z"
    }
   },
   "outputs": [
    {
     "data": {
      "text/plain": [
       "product_id          object\n",
       "style_id            object\n",
       "color_id            object\n",
       "product_name        object\n",
       "color_name          object\n",
       "fit                 object\n",
       "product_price      float64\n",
       "size_number         object\n",
       "size_model          object\n",
       "cotton             float64\n",
       "polyester          float64\n",
       "spandex            float64\n",
       "scrapy_datetime     object\n",
       "dtype: object"
      ]
     },
     "execution_count": 8,
     "metadata": {},
     "output_type": "execute_result"
    }
   ],
   "source": [
    "df01.dtypes"
   ]
  },
  {
   "cell_type": "code",
   "execution_count": 9,
   "id": "faf84f43",
   "metadata": {
    "ExecuteTime": {
     "end_time": "2022-10-15T17:36:37.724738Z",
     "start_time": "2022-10-15T17:36:37.681727Z"
    }
   },
   "outputs": [],
   "source": [
    "# convert object to datetime\n",
    "df01['scrapy_datetime'] = pd.to_datetime( df01['scrapy_datetime'] )"
   ]
  },
  {
   "cell_type": "code",
   "execution_count": 10,
   "id": "faeeb6b5",
   "metadata": {
    "ExecuteTime": {
     "end_time": "2022-10-15T17:36:37.771726Z",
     "start_time": "2022-10-15T17:36:37.743728Z"
    }
   },
   "outputs": [
    {
     "data": {
      "text/plain": [
       "product_id                 object\n",
       "style_id                   object\n",
       "color_id                   object\n",
       "product_name               object\n",
       "color_name                 object\n",
       "fit                        object\n",
       "product_price             float64\n",
       "size_number                object\n",
       "size_model                 object\n",
       "cotton                    float64\n",
       "polyester                 float64\n",
       "spandex                   float64\n",
       "scrapy_datetime    datetime64[ns]\n",
       "dtype: object"
      ]
     },
     "execution_count": 10,
     "metadata": {},
     "output_type": "execute_result"
    }
   ],
   "source": [
    "df01.dtypes"
   ]
  },
  {
   "cell_type": "markdown",
   "id": "87009b02",
   "metadata": {
    "ExecuteTime": {
     "end_time": "2022-10-08T20:11:04.116416Z",
     "start_time": "2022-10-08T20:11:04.100418Z"
    }
   },
   "source": [
    "## 1.3 Identificação de dados faltantes"
   ]
  },
  {
   "cell_type": "code",
   "execution_count": 11,
   "id": "685ea730",
   "metadata": {
    "ExecuteTime": {
     "end_time": "2022-10-15T17:36:37.818725Z",
     "start_time": "2022-10-15T17:36:37.780729Z"
    },
    "cell_style": "split"
   },
   "outputs": [
    {
     "data": {
      "text/plain": [
       "product_id          0\n",
       "style_id            0\n",
       "color_id            0\n",
       "product_name        1\n",
       "color_name          0\n",
       "fit                 0\n",
       "product_price       1\n",
       "size_number        65\n",
       "size_model         76\n",
       "cotton              0\n",
       "polyester           0\n",
       "spandex             0\n",
       "scrapy_datetime     0\n",
       "dtype: int64"
      ]
     },
     "execution_count": 11,
     "metadata": {},
     "output_type": "execute_result"
    }
   ],
   "source": [
    "df01.isna().sum()"
   ]
  },
  {
   "cell_type": "code",
   "execution_count": 12,
   "id": "42e5c0ef",
   "metadata": {
    "ExecuteTime": {
     "end_time": "2022-10-15T17:36:37.850728Z",
     "start_time": "2022-10-15T17:36:37.821726Z"
    },
    "cell_style": "split"
   },
   "outputs": [
    {
     "data": {
      "text/plain": [
       "product_id         0.000\n",
       "style_id           0.000\n",
       "color_id           0.000\n",
       "product_name       0.008\n",
       "color_name         0.000\n",
       "fit                0.000\n",
       "product_price      0.008\n",
       "size_number        0.520\n",
       "size_model         0.608\n",
       "cotton             0.000\n",
       "polyester          0.000\n",
       "spandex            0.000\n",
       "scrapy_datetime    0.000\n",
       "dtype: float64"
      ]
     },
     "execution_count": 12,
     "metadata": {},
     "output_type": "execute_result"
    }
   ],
   "source": [
    "df01.isna().sum() / df01.shape[0]"
   ]
  },
  {
   "cell_type": "markdown",
   "id": "f14bc75e",
   "metadata": {
    "ExecuteTime": {
     "end_time": "2022-10-08T20:11:28.192126Z",
     "start_time": "2022-10-08T20:11:28.186130Z"
    }
   },
   "source": [
    "## 1.4 Substituição dos dados faltantes"
   ]
  },
  {
   "cell_type": "code",
   "execution_count": 13,
   "id": "4f3ec126",
   "metadata": {
    "ExecuteTime": {
     "end_time": "2022-10-15T17:36:37.882731Z",
     "start_time": "2022-10-15T17:36:37.855728Z"
    }
   },
   "outputs": [
    {
     "data": {
      "text/plain": [
       "(124, 11)"
      ]
     },
     "execution_count": 13,
     "metadata": {},
     "output_type": "execute_result"
    }
   ],
   "source": [
    "df_01 = df01.drop( columns=['size_number', 'size_model'] ).dropna()\n",
    "df_01.shape"
   ]
  },
  {
   "cell_type": "markdown",
   "id": "05663b10",
   "metadata": {},
   "source": [
    "## 1.5 Descrição dos dados"
   ]
  },
  {
   "cell_type": "code",
   "execution_count": 14,
   "id": "c5ce88e6",
   "metadata": {
    "ExecuteTime": {
     "end_time": "2022-10-15T17:36:37.913727Z",
     "start_time": "2022-10-15T17:36:37.888727Z"
    }
   },
   "outputs": [],
   "source": [
    "num_attributes = df01.select_dtypes( include=['int64', 'float64'] )\n",
    "cat_attributes = df01.select_dtypes( exclude=['int64', 'float64', 'datetime64[ns]'] )"
   ]
  },
  {
   "cell_type": "markdown",
   "id": "913661ff",
   "metadata": {},
   "source": [
    "### 1.5.1 Numeric data"
   ]
  },
  {
   "cell_type": "code",
   "execution_count": 36,
   "id": "a339d2fe",
   "metadata": {
    "ExecuteTime": {
     "end_time": "2022-10-15T19:45:29.671677Z",
     "start_time": "2022-10-15T19:45:29.611679Z"
    }
   },
   "outputs": [
    {
     "data": {
      "text/html": [
       "<div>\n",
       "<style scoped>\n",
       "    .dataframe tbody tr th:only-of-type {\n",
       "        vertical-align: middle;\n",
       "    }\n",
       "\n",
       "    .dataframe tbody tr th {\n",
       "        vertical-align: top;\n",
       "    }\n",
       "\n",
       "    .dataframe thead th {\n",
       "        text-align: right;\n",
       "    }\n",
       "</style>\n",
       "<table border=\"1\" class=\"dataframe\">\n",
       "  <thead>\n",
       "    <tr style=\"text-align: right;\">\n",
       "      <th></th>\n",
       "      <th>attributes</th>\n",
       "      <th>min</th>\n",
       "      <th>max</th>\n",
       "      <th>range</th>\n",
       "      <th>media</th>\n",
       "      <th>mediana</th>\n",
       "      <th>std</th>\n",
       "      <th>skew</th>\n",
       "      <th>kurtosis</th>\n",
       "    </tr>\n",
       "  </thead>\n",
       "  <tbody>\n",
       "    <tr>\n",
       "      <th>0</th>\n",
       "      <td>product_price</td>\n",
       "      <td>39.99</td>\n",
       "      <td>39.99</td>\n",
       "      <td>0.00</td>\n",
       "      <td>39.99</td>\n",
       "      <td>NaN</td>\n",
       "      <td>0.00</td>\n",
       "      <td>0.00</td>\n",
       "      <td>0.00</td>\n",
       "    </tr>\n",
       "    <tr>\n",
       "      <th>1</th>\n",
       "      <td>cotton</td>\n",
       "      <td>0.77</td>\n",
       "      <td>1.00</td>\n",
       "      <td>0.23</td>\n",
       "      <td>0.97</td>\n",
       "      <td>0.99</td>\n",
       "      <td>0.07</td>\n",
       "      <td>-2.23</td>\n",
       "      <td>3.32</td>\n",
       "    </tr>\n",
       "    <tr>\n",
       "      <th>2</th>\n",
       "      <td>polyester</td>\n",
       "      <td>0.00</td>\n",
       "      <td>1.00</td>\n",
       "      <td>1.00</td>\n",
       "      <td>0.29</td>\n",
       "      <td>0.19</td>\n",
       "      <td>0.33</td>\n",
       "      <td>0.49</td>\n",
       "      <td>-1.42</td>\n",
       "    </tr>\n",
       "    <tr>\n",
       "      <th>3</th>\n",
       "      <td>spandex</td>\n",
       "      <td>0.00</td>\n",
       "      <td>0.02</td>\n",
       "      <td>0.02</td>\n",
       "      <td>0.01</td>\n",
       "      <td>0.01</td>\n",
       "      <td>0.01</td>\n",
       "      <td>-0.19</td>\n",
       "      <td>-0.97</td>\n",
       "    </tr>\n",
       "  </tbody>\n",
       "</table>\n",
       "</div>"
      ],
      "text/plain": [
       "      attributes   min   max  range  media  mediana  std  skew  kurtosis\n",
       "0  product_price 39.99 39.99   0.00  39.99      NaN 0.00  0.00      0.00\n",
       "1         cotton  0.77  1.00   0.23   0.97     0.99 0.07 -2.23      3.32\n",
       "2      polyester  0.00  1.00   1.00   0.29     0.19 0.33  0.49     -1.42\n",
       "3        spandex  0.00  0.02   0.02   0.01     0.01 0.01 -0.19     -0.97"
      ]
     },
     "execution_count": 36,
     "metadata": {},
     "output_type": "execute_result"
    }
   ],
   "source": [
    "# tendencia central - media, mediana\n",
    "t1 = pd.DataFrame( num_attributes.apply(np.mean) ).T\n",
    "t2 = pd.DataFrame( num_attributes.apply(np.median) ).T\n",
    "\n",
    "# dispersão - std, min, max, range, skew, kurtosis \n",
    "d1 = pd.DataFrame( num_attributes.apply( np.std ) ).T\n",
    "d2 = pd.DataFrame( num_attributes.apply( np.min ) ).T\n",
    "d3 = pd.DataFrame( num_attributes.apply( np.max ) ).T\n",
    "d4 = pd.DataFrame( num_attributes.apply( lambda x: x.max() - x.min() ) ).T\n",
    "d5 = pd.DataFrame( num_attributes.apply( lambda x: x.skew() ) ).T\n",
    "d6 = pd.DataFrame( num_attributes.apply( lambda x: x.kurtosis() ) ).T\n",
    "\n",
    "#concat \n",
    "ml = pd.concat( [d2, d3, d4, t1, t2, d1, d5, d6] ).T.reset_index()\n",
    "ml.columns = ['attributes', 'min', 'max', 'range', 'media', 'mediana', 'std', 'skew', 'kurtosis']\n",
    "ml"
   ]
  },
  {
   "cell_type": "code",
   "execution_count": 28,
   "id": "268ec628",
   "metadata": {
    "ExecuteTime": {
     "end_time": "2022-10-15T19:40:53.878682Z",
     "start_time": "2022-10-15T19:40:53.866684Z"
    }
   },
   "outputs": [],
   "source": [
    "sns.distplot(df01['product_price']);"
   ]
  },
  {
   "cell_type": "code",
   "execution_count": 30,
   "id": "f2948390",
   "metadata": {
    "ExecuteTime": {
     "end_time": "2022-10-15T19:42:05.914029Z",
     "start_time": "2022-10-15T19:42:05.510030Z"
    }
   },
   "outputs": [
    {
     "name": "stderr",
     "output_type": "stream",
     "text": [
      "C:\\Users\\ferki\\anaconda3\\envs\\PythonDSDev\\lib\\site-packages\\seaborn\\distributions.py:2619: FutureWarning: `distplot` is a deprecated function and will be removed in a future version. Please adapt your code to use either `displot` (a figure-level function with similar flexibility) or `histplot` (an axes-level function for histograms).\n",
      "  warnings.warn(msg, FutureWarning)\n"
     ]
    },
    {
     "data": {
      "image/png": "[encoded data removed]",
      "text/plain": [
       "<Figure size 640x480 with 1 Axes>"
      ]
     },
     "metadata": {},
     "output_type": "display_data"
    }
   ],
   "source": [
    "sns.distplot(df01['cotton']);"
   ]
  },
  {
   "cell_type": "code",
   "execution_count": 31,
   "id": "6b7e80ad",
   "metadata": {
    "ExecuteTime": {
     "end_time": "2022-10-15T19:43:00.354895Z",
     "start_time": "2022-10-15T19:43:00.053896Z"
    }
   },
   "outputs": [
    {
     "name": "stderr",
     "output_type": "stream",
     "text": [
      "C:\\Users\\ferki\\anaconda3\\envs\\PythonDSDev\\lib\\site-packages\\seaborn\\distributions.py:2619: FutureWarning: `distplot` is a deprecated function and will be removed in a future version. Please adapt your code to use either `displot` (a figure-level function with similar flexibility) or `histplot` (an axes-level function for histograms).\n",
      "  warnings.warn(msg, FutureWarning)\n"
     ]
    },
    {
     "data": {
      "image/png": "[encoded data removed]",
      "text/plain": [
       "<Figure size 640x480 with 1 Axes>"
      ]
     },
     "metadata": {},
     "output_type": "display_data"
    }
   ],
   "source": [
    "sns.distplot(df01['polyester']);"
   ]
  },
  {
   "cell_type": "code",
   "execution_count": 32,
   "id": "9b6b9ae4",
   "metadata": {
    "ExecuteTime": {
     "end_time": "2022-10-15T19:43:26.666939Z",
     "start_time": "2022-10-15T19:43:26.442937Z"
    }
   },
   "outputs": [
    {
     "name": "stderr",
     "output_type": "stream",
     "text": [
      "C:\\Users\\ferki\\anaconda3\\envs\\PythonDSDev\\lib\\site-packages\\seaborn\\distributions.py:2619: FutureWarning: `distplot` is a deprecated function and will be removed in a future version. Please adapt your code to use either `displot` (a figure-level function with similar flexibility) or `histplot` (an axes-level function for histograms).\n",
      "  warnings.warn(msg, FutureWarning)\n"
     ]
    },
    {
     "data": {
      "image/png": "[encoded data removed]",
      "text/plain": [
       "<Figure size 640x480 with 1 Axes>"
      ]
     },
     "metadata": {},
     "output_type": "display_data"
    }
   ],
   "source": [
    "sns.distplot(df01['spandex']);"
   ]
  },
  {
   "cell_type": "markdown",
   "id": "80eb7283",
   "metadata": {},
   "source": [
    "### 1.5.2 Categorical data"
   ]
  },
  {
   "cell_type": "code",
   "execution_count": 24,
   "id": "c66ddc93",
   "metadata": {
    "ExecuteTime": {
     "end_time": "2022-10-15T19:21:55.385642Z",
     "start_time": "2022-10-15T19:21:55.311512Z"
    }
   },
   "outputs": [
    {
     "data": {
      "text/plain": [
       "product_id      125\n",
       "style_id         15\n",
       "color_id         40\n",
       "product_name      2\n",
       "color_name       27\n",
       "fit               5\n",
       "size_number       9\n",
       "size_model        5\n",
       "dtype: int64"
      ]
     },
     "execution_count": 24,
     "metadata": {},
     "output_type": "execute_result"
    }
   ],
   "source": [
    "cat_attributes.apply( lambda x: x.unique().shape[0])"
   ]
  },
  {
   "cell_type": "markdown",
   "id": "9e9120ab",
   "metadata": {},
   "source": [
    "# 2.0 Feature Engineering"
   ]
  },
  {
   "cell_type": "code",
   "execution_count": null,
   "id": "08e17f7a",
   "metadata": {},
   "outputs": [],
   "source": []
  },
  {
   "cell_type": "markdown",
   "id": "dc467764",
   "metadata": {},
   "source": [
    "# 3.0 Filtragem de atributos"
   ]
  },
  {
   "cell_type": "code",
   "execution_count": null,
   "id": "6c840a45",
   "metadata": {},
   "outputs": [],
   "source": []
  },
  {
   "cell_type": "markdown",
   "id": "8b37ea35",
   "metadata": {},
   "source": [
    "# 4.0 Exploratory Data Analysis"
   ]
  },
  {
   "cell_type": "code",
   "execution_count": null,
   "id": "4b91b778",
   "metadata": {},
   "outputs": [],
   "source": []
  }
 ],
 "metadata": {
  "kernelspec": {
   "display_name": "Python 3 (ipykernel)",
   "language": "python",
   "name": "python3"
  },
  "language_info": {
   "codemirror_mode": {
    "name": "ipython",
    "version": 3
   },
   "file_extension": ".py",
   "mimetype": "text/x-python",
   "name": "python",
   "nbconvert_exporter": "python",
   "pygments_lexer": "ipython3",
   "version": "3.8.13"
  }
 },
 "nbformat": 4,
 "nbformat_minor": 5
}
